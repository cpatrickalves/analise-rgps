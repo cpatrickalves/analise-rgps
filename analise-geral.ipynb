{
 "cells": [
  {
   "cell_type": "markdown",
   "metadata": {},
   "source": [
    "# Análise Geral dos dados\n",
    "\n",
    "Este arquivo apresenta uma visão geral dos dados do RGPS no período de 1995 a 2016."
   ]
  },
  {
   "cell_type": "markdown",
   "metadata": {},
   "source": [
    "## Estrutura do banco de dados\n",
    "\n",
    "Inicialmente é apresentada uma visão geral da estrutura do banco de dados."
   ]
  },
  {
   "cell_type": "code",
   "execution_count": 7,
   "metadata": {},
   "outputs": [],
   "source": [
    "import sqlite3\n",
    "import pandas as pd\n",
    "                        \n",
    "# Função que executa as queries no banco de dados\n",
    "def run_query(q):\n",
    "    with sqlite3.connect('microdados/sqlite3/microdadosRGPS.db') as conn:\n",
    "        return pd.read_sql(q, conn)"
   ]
  },
  {
   "cell_type": "markdown",
   "metadata": {},
   "source": [
    "Lendo as tabelas do banco dados:"
   ]
  },
  {
   "cell_type": "code",
   "execution_count": 8,
   "metadata": {},
   "outputs": [
    {
     "data": {
      "text/html": [
       "<div>\n",
       "<style scoped>\n",
       "    .dataframe tbody tr th:only-of-type {\n",
       "        vertical-align: middle;\n",
       "    }\n",
       "\n",
       "    .dataframe tbody tr th {\n",
       "        vertical-align: top;\n",
       "    }\n",
       "\n",
       "    .dataframe thead th {\n",
       "        text-align: right;\n",
       "    }\n",
       "</style>\n",
       "<table border=\"1\" class=\"dataframe\">\n",
       "  <thead>\n",
       "    <tr style=\"text-align: right;\">\n",
       "      <th></th>\n",
       "      <th>name</th>\n",
       "      <th>type</th>\n",
       "    </tr>\n",
       "  </thead>\n",
       "  <tbody>\n",
       "    <tr>\n",
       "      <th>0</th>\n",
       "      <td>apos_aux</td>\n",
       "      <td>table</td>\n",
       "    </tr>\n",
       "    <tr>\n",
       "      <th>1</th>\n",
       "      <td>pensoes</td>\n",
       "      <td>table</td>\n",
       "    </tr>\n",
       "  </tbody>\n",
       "</table>\n",
       "</div>"
      ],
      "text/plain": [
       "       name   type\n",
       "0  apos_aux  table\n",
       "1   pensoes  table"
      ]
     },
     "execution_count": 8,
     "metadata": {},
     "output_type": "execute_result"
    }
   ],
   "source": [
    "query = \"SELECT name,type FROM sqlite_master WHERE type IN ('table')\"\n",
    "run_query(query)"
   ]
  },
  {
   "cell_type": "markdown",
   "metadata": {},
   "source": [
    "O banco possui duas tabelas, uma com os dados das aposentadorias e auxílios (***apos_aux***)e outra com as pensões.\n",
    "\n",
    "Em seguida, verificamos o esquema e quantidade de registros em cada uma das tabelas:"
   ]
  },
  {
   "cell_type": "code",
   "execution_count": 19,
   "metadata": {},
   "outputs": [
    {
     "name": "stdout",
     "output_type": "stream",
     "text": [
      "\n",
      "Tabela: apos_aux - 57955872 registros\n",
      "Esquema da tabela:\n",
      "    cid           name     type  notnull dflt_value  pk\n",
      "0     0        ESPECIE  INTEGER        0       None   0\n",
      "1     1            DIB     TEXT        0       None   0\n",
      "2     2            DDB     TEXT        0       None   0\n",
      "3     3   MOT_CESSACAO  INTEGER        0       None   0\n",
      "4     4  ULT_COMPET_MR  INTEGER        0       None   0\n",
      "5     5          VL_MR     TEXT        0       None   0\n",
      "6     6        DT_NASC     TEXT        0       None   0\n",
      "7     7         VL_RMI     TEXT        0       None   0\n",
      "8     8      CLIENTELA  INTEGER        0       None   0\n",
      "9     9           SEXO  INTEGER        0       None   0\n",
      "10   10       SITUACAO  INTEGER        0       None   0\n",
      "11   11       DT_OBITO     TEXT        0       None   0\n",
      "12   12      IDADE_DIB  INTEGER        0       None   0\n",
      "13   13  TEMPO_CONTRIB  INTEGER        0       None   0\n",
      "----------------------------------------\n",
      "\n",
      "Tabela: pensoes - 7964185 registros\n",
      "Esquema da tabela:\n",
      "    cid           name     type  notnull dflt_value  pk\n",
      "0     0        ESPECIE  INTEGER        0       None   0\n",
      "1     1            DIB     TEXT        0       None   0\n",
      "2     2            DDB     TEXT        0       None   0\n",
      "3     3   MOT_CESSACAO  INTEGER        0       None   0\n",
      "4     4  ULT_COMPET_MR  INTEGER        0       None   0\n",
      "5     5          VL_MR     TEXT        0       None   0\n",
      "6     6        DT_NASC     TEXT        0       None   0\n",
      "7     7         VL_RMI     TEXT        0       None   0\n",
      "8     8      CLIENTELA  INTEGER        0       None   0\n",
      "9     9           SEXO  INTEGER        0       None   0\n",
      "10   10       SITUACAO  INTEGER        0       None   0\n",
      "11   11       DT_OBITO     TEXT        0       None   0\n",
      "12   12      IDADE_DIB  INTEGER        0       None   0\n",
      "13   13  TEMPO_CONTRIB  INTEGER        0       None   0\n",
      "----------------------------------------\n"
     ]
    }
   ],
   "source": [
    "for t in [\"apos_aux\", \"pensoes\"]:\n",
    "    registros = run_query('SELECT COUNT(ESPECIE) as count FROM {}'.format(t)).loc[0,'count']\n",
    "    print(\"\\nTabela: {} - {} registros\".format(t,registros))\n",
    "    print(\"Esquema da tabela:\")\n",
    "    print(run_query(\"pragma table_info(apos_aux);\"))\n",
    "    print(\"-\"*40)    "
   ]
  },
  {
   "cell_type": "markdown",
   "metadata": {},
   "source": [
    "Como observado a tabela ***apos_aux*** possui mais de 57 milhões de registros e a tabela ***pensoes*** possui quase 8 milhões de registros.\n",
    "Além das quantidades de registros, a saída também apresenta os esquemas de cada umas das tabelas, sendo que ambas possuem 14 colunas.\n",
    "\n",
    "A tabela abaixo apresenta uma breve descrição do significado das três primeiras colunas da tabela ***apos_aux***. \n",
    "O arquivo ***metadados.xls***, apresenta uma descrição detalhada de ambas as tabelas.\n",
    "\n",
    "|CAMPO|DESCRIÇÃO|\n",
    "|---|---|\n",
    "|ESPECIE|Espécie de Benefício|\n",
    "|DIB|Data de Início do Benefício|\n",
    "|DDB|Data de Despacho do Benefício|\n",
    "|MOT_CESSACAO|Motivo de Cessação|\n",
    "\n",
    "A maioria dos dados é apresentada com códigos, assim, para o entendimento dos dados é necessário utilizar o arquivo ***dicionario.txt***, disponibilizado junto com banco, para que se possa entender os dados de cada coluna.\n",
    "Abaixo segue uma parte do arquivo de dicionário:\n",
    "\n",
    "* ESPÉCIE DE BENEFÍCIO (ESPECIE)\n",
    "\n",
    "|CÓDIGO|VALOR|\n",
    "|---|---|\n",
    "|'01'|'B01 Pensão por morte do trab. rural'|    \n",
    "|'02'|'B02 Pensão por morte acid. do trab. rural'|\n",
    "|...||\n",
    "|'95'|'B95 Auxílio-suplementar por acidente do trabalho'|\n",
    "|'96'|'B96 Pensão especias às pessoas atingidas pela hanseníase'|\n",
    "\n",
    "\n",
    "* VÍNCULO DE DEPENDENTE (VINC_DEP)\n",
    "\n",
    "|CÓDIGO|VALOR|\n",
    "|---|---|\n",
    "|1|\"Cônjuge\"|\n",
    "|2|\"Filho(a)\"| \n",
    "|...||\n",
    "|9|\"Dependente judicial\"|\n",
    "|99|\"Ignorado\"|\n",
    "    "
   ]
  },
  {
   "cell_type": "markdown",
   "metadata": {},
   "source": [
    "## Visão geral dos dados de Aposentadorias e Auxílios"
   ]
  },
  {
   "cell_type": "markdown",
   "metadata": {},
   "source": [
    "Como primeira parte da análise, segue uma visão dos dados contidos na tabela ***apos_aux***."
   ]
  },
  {
   "cell_type": "code",
   "execution_count": null,
   "metadata": {},
   "outputs": [],
   "source": []
  },
  {
   "cell_type": "code",
   "execution_count": null,
   "metadata": {},
   "outputs": [],
   "source": []
  },
  {
   "cell_type": "markdown",
   "metadata": {},
   "source": [
    "------------------\n",
    "<span style=\"font-size: 12px\"><i>\n",
    "Em desenvolvimento...<br>\n",
    "</i></span>"
   ]
  }
 ],
 "metadata": {
  "kernelspec": {
   "display_name": "Python 3",
   "language": "python",
   "name": "python3"
  },
  "language_info": {
   "codemirror_mode": {
    "name": "ipython",
    "version": 3
   },
   "file_extension": ".py",
   "mimetype": "text/x-python",
   "name": "python",
   "nbconvert_exporter": "python",
   "pygments_lexer": "ipython3",
   "version": "3.6.5"
  }
 },
 "nbformat": 4,
 "nbformat_minor": 2
}
