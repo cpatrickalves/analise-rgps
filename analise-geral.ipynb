{
 "cells": [
  {
   "cell_type": "markdown",
   "metadata": {},
   "source": [
    "# Análise Geral dos dados\n",
    "\n",
    "Este arquivo apresenta uma visão geral dos dados do RGPS no período de 1995 a 2016."
   ]
  },
  {
   "cell_type": "markdown",
   "metadata": {},
   "source": [
    "## Estrutura do banco de dados\n",
    "\n",
    "Inicialmente é apresentada uma visão geral da estrutura do banco de dados."
   ]
  },
  {
   "cell_type": "code",
   "execution_count": 1,
   "metadata": {},
   "outputs": [],
   "source": [
    "import sqlite3\n",
    "import pandas as pd\n",
    "                        \n",
    "# Função que executa as queries no banco de dados\n",
    "def run_query(q):\n",
    "    with sqlite3.connect('microdados/sqlite3/microdadosRGPS.db') as conn:\n",
    "        return pd.read_sql(q, conn)"
   ]
  },
  {
   "cell_type": "markdown",
   "metadata": {},
   "source": [
    "Lendo as tabelas do banco dados:"
   ]
  },
  {
   "cell_type": "code",
   "execution_count": 2,
   "metadata": {},
   "outputs": [
    {
     "data": {
      "text/html": [
       "<div>\n",
       "<style scoped>\n",
       "    .dataframe tbody tr th:only-of-type {\n",
       "        vertical-align: middle;\n",
       "    }\n",
       "\n",
       "    .dataframe tbody tr th {\n",
       "        vertical-align: top;\n",
       "    }\n",
       "\n",
       "    .dataframe thead th {\n",
       "        text-align: right;\n",
       "    }\n",
       "</style>\n",
       "<table border=\"1\" class=\"dataframe\">\n",
       "  <thead>\n",
       "    <tr style=\"text-align: right;\">\n",
       "      <th></th>\n",
       "      <th>name</th>\n",
       "      <th>type</th>\n",
       "    </tr>\n",
       "  </thead>\n",
       "  <tbody>\n",
       "    <tr>\n",
       "      <th>0</th>\n",
       "      <td>apos_aux</td>\n",
       "      <td>table</td>\n",
       "    </tr>\n",
       "    <tr>\n",
       "      <th>1</th>\n",
       "      <td>pensoes</td>\n",
       "      <td>table</td>\n",
       "    </tr>\n",
       "  </tbody>\n",
       "</table>\n",
       "</div>"
      ],
      "text/plain": [
       "       name   type\n",
       "0  apos_aux  table\n",
       "1   pensoes  table"
      ]
     },
     "execution_count": 2,
     "metadata": {},
     "output_type": "execute_result"
    }
   ],
   "source": [
    "query = \"SELECT name,type FROM sqlite_master WHERE type IN ('table')\"\n",
    "run_query(query)"
   ]
  },
  {
   "cell_type": "markdown",
   "metadata": {},
   "source": [
    "O banco possui duas tabelas, uma com os dados das aposentadorias e auxílios (***apos_aux***) e outra com as pensões.\n",
    "\n",
    "Em seguida, verificamos o esquema e quantidade de registros em cada uma das tabelas:"
   ]
  },
  {
   "cell_type": "code",
   "execution_count": 3,
   "metadata": {},
   "outputs": [
    {
     "name": "stdout",
     "output_type": "stream",
     "text": [
      "\n",
      "Tabela: apos_aux - 57955872 registros\n",
      "Esquema da tabela:\n",
      "    cid           name     type  notnull dflt_value  pk\n",
      "0     0        ESPECIE  INTEGER        0       None   0\n",
      "1     1            DIB     TEXT        0       None   0\n",
      "2     2            DDB     TEXT        0       None   0\n",
      "3     3   MOT_CESSACAO  INTEGER        0       None   0\n",
      "4     4  ULT_COMPET_MR  INTEGER        0       None   0\n",
      "5     5          VL_MR     TEXT        0       None   0\n",
      "6     6        DT_NASC     TEXT        0       None   0\n",
      "7     7         VL_RMI     TEXT        0       None   0\n",
      "8     8      CLIENTELA  INTEGER        0       None   0\n",
      "9     9           SEXO  INTEGER        0       None   0\n",
      "10   10       SITUACAO  INTEGER        0       None   0\n",
      "11   11       DT_OBITO     TEXT        0       None   0\n",
      "12   12      IDADE_DIB  INTEGER        0       None   0\n",
      "13   13  TEMPO_CONTRIB  INTEGER        0       None   0\n",
      "----------------------------------------\n",
      "\n",
      "Tabela: pensoes - 7964185 registros\n",
      "Esquema da tabela:\n",
      "    cid           name     type  notnull dflt_value  pk\n",
      "0     0        ESPECIE  INTEGER        0       None   0\n",
      "1     1            DIB     TEXT        0       None   0\n",
      "2     2            DDB     TEXT        0       None   0\n",
      "3     3   MOT_CESSACAO  INTEGER        0       None   0\n",
      "4     4  ULT_COMPET_MR  INTEGER        0       None   0\n",
      "5     5          VL_MR     TEXT        0       None   0\n",
      "6     6        DT_NASC     TEXT        0       None   0\n",
      "7     7         VL_RMI     TEXT        0       None   0\n",
      "8     8      CLIENTELA  INTEGER        0       None   0\n",
      "9     9           SEXO  INTEGER        0       None   0\n",
      "10   10       SITUACAO  INTEGER        0       None   0\n",
      "11   11       DT_OBITO     TEXT        0       None   0\n",
      "12   12      IDADE_DIB  INTEGER        0       None   0\n",
      "13   13  TEMPO_CONTRIB  INTEGER        0       None   0\n",
      "----------------------------------------\n"
     ]
    }
   ],
   "source": [
    "for tabela in [\"apos_aux\", \"pensoes\"]:\n",
    "    registros = run_query('SELECT COUNT(ESPECIE) as count FROM {}'.format(tabela)).loc[0,'count']\n",
    "    print(\"\\nTabela: {} - {} registros\".format(tabela,registros))\n",
    "    print(\"Esquema da tabela:\")\n",
    "    print(run_query(\"pragma table_info(apos_aux);\"))\n",
    "    print(\"-\"*40)    "
   ]
  },
  {
   "cell_type": "markdown",
   "metadata": {},
   "source": [
    "Como observado a tabela ***apos_aux*** possui mais de 57 milhões de registros e a tabela ***pensoes*** possui quase 8 milhões de registros.\n",
    "Além das quantidades de registros, a saída também apresenta os esquemas de cada umas das tabelas, sendo que ambas possuem 14 colunas.\n",
    "\n",
    "A tabela abaixo apresenta uma breve descrição do significado das quatro primeiras colunas da tabela ***apos_aux***. \n",
    "\n",
    "|CAMPO|DESCRIÇÃO|\n",
    "|---|---|\n",
    "|ESPECIE|Espécie de Benefício|\n",
    "|DIB|Data de Início do Benefício|\n",
    "|DDB|Data de Despacho do Benefício|\n",
    "|MOT_CESSACAO|Motivo de Cessação|\n",
    "\n",
    "O arquivo ***metadados.xls***, disponibilizado junto com o banco de dados, apresenta uma descrição detalhada de ambas as tabelas.\n",
    "\n",
    "A maioria dos dados é apresentada com códigos, assim, para o entendimento dos dados é necessário utilizar o arquivo ***dicionario.txt***, disponibilizado junto com banco, para que se possa entender os dados de cada coluna.\n",
    "Abaixo segue uma parte do arquivo de dicionário:\n",
    "\n",
    "* ESPÉCIE DE BENEFÍCIO (ESPECIE)\n",
    "\n",
    "|CÓDIGO|VALOR|\n",
    "|---|---|\n",
    "|'01'|'B01 Pensão por morte do trab. rural'|    \n",
    "|'02'|'B02 Pensão por morte acid. do trab. rural'|\n",
    "|...||\n",
    "|'95'|'B95 Auxílio-suplementar por acidente do trabalho'|\n",
    "|'96'|'B96 Pensão especias às pessoas atingidas pela hanseníase'|\n",
    "\n",
    "\n",
    "* VÍNCULO DE DEPENDENTE (VINC_DEP)\n",
    "\n",
    "|CÓDIGO|VALOR|\n",
    "|---|---|\n",
    "|1|\"Cônjuge\"|\n",
    "|2|\"Filho(a)\"| \n",
    "|...||\n",
    "|9|\"Dependente judicial\"|\n",
    "|99|\"Ignorado\"|\n",
    "    "
   ]
  },
  {
   "cell_type": "markdown",
   "metadata": {},
   "source": [
    "## Visão geral dos dados de Aposentadorias e Auxílios"
   ]
  },
  {
   "cell_type": "markdown",
   "metadata": {},
   "source": [
    "Como primeira parte da análise, segue uma visão dos dados contidos na tabela ***apos_aux***."
   ]
  },
  {
   "cell_type": "markdown",
   "metadata": {},
   "source": [
    "Uma das principais colunas da tabela é a coluna *ESPECIE*, que contém o tipo de benefício. Então, vamos verificar quantos registros existem para cada tipo de benefício da tabela."
   ]
  },
  {
   "cell_type": "code",
   "execution_count": 4,
   "metadata": {},
   "outputs": [
    {
     "data": {
      "text/html": [
       "<div>\n",
       "<style scoped>\n",
       "    .dataframe tbody tr th:only-of-type {\n",
       "        vertical-align: middle;\n",
       "    }\n",
       "\n",
       "    .dataframe tbody tr th {\n",
       "        vertical-align: top;\n",
       "    }\n",
       "\n",
       "    .dataframe thead th {\n",
       "        text-align: right;\n",
       "    }\n",
       "</style>\n",
       "<table border=\"1\" class=\"dataframe\">\n",
       "  <thead>\n",
       "    <tr style=\"text-align: right;\">\n",
       "      <th></th>\n",
       "      <th>Beneficio</th>\n",
       "      <th>Codigo</th>\n",
       "      <th>qtd_registros</th>\n",
       "    </tr>\n",
       "  </thead>\n",
       "  <tbody>\n",
       "    <tr>\n",
       "      <th>0</th>\n",
       "      <td>Aposentadoria por tempo de serviço de professor</td>\n",
       "      <td>57</td>\n",
       "      <td>114406</td>\n",
       "    </tr>\n",
       "    <tr>\n",
       "      <th>1</th>\n",
       "      <td>Aposentadoria por tempo de serviço especial</td>\n",
       "      <td>46</td>\n",
       "      <td>188462</td>\n",
       "    </tr>\n",
       "    <tr>\n",
       "      <th>2</th>\n",
       "      <td>Aposentadoria por invalidez por acidente do tr...</td>\n",
       "      <td>92</td>\n",
       "      <td>189969</td>\n",
       "    </tr>\n",
       "    <tr>\n",
       "      <th>3</th>\n",
       "      <td>Aposentadoria por invalidez previdenciária</td>\n",
       "      <td>32</td>\n",
       "      <td>3725842</td>\n",
       "    </tr>\n",
       "    <tr>\n",
       "      <th>4</th>\n",
       "      <td>Auxílio-doença por acidente do trabalho</td>\n",
       "      <td>91</td>\n",
       "      <td>4877036</td>\n",
       "    </tr>\n",
       "    <tr>\n",
       "      <th>5</th>\n",
       "      <td>Aposentadoria por tempo de serviço previdenciária</td>\n",
       "      <td>42</td>\n",
       "      <td>5272829</td>\n",
       "    </tr>\n",
       "    <tr>\n",
       "      <th>6</th>\n",
       "      <td>Aposentadoria por idade</td>\n",
       "      <td>41</td>\n",
       "      <td>10568276</td>\n",
       "    </tr>\n",
       "    <tr>\n",
       "      <th>7</th>\n",
       "      <td>Auxílio-doença previdenciário</td>\n",
       "      <td>31</td>\n",
       "      <td>33019052</td>\n",
       "    </tr>\n",
       "  </tbody>\n",
       "</table>\n",
       "</div>"
      ],
      "text/plain": [
       "                                           Beneficio  Codigo  qtd_registros\n",
       "0    Aposentadoria por tempo de serviço de professor      57         114406\n",
       "1        Aposentadoria por tempo de serviço especial      46         188462\n",
       "2  Aposentadoria por invalidez por acidente do tr...      92         189969\n",
       "3         Aposentadoria por invalidez previdenciária      32        3725842\n",
       "4            Auxílio-doença por acidente do trabalho      91        4877036\n",
       "5  Aposentadoria por tempo de serviço previdenciária      42        5272829\n",
       "6                            Aposentadoria por idade      41       10568276\n",
       "7                      Auxílio-doença previdenciário      31       33019052"
      ]
     },
     "execution_count": 4,
     "metadata": {},
     "output_type": "execute_result"
    }
   ],
   "source": [
    "# O arquivo \"dicionario_dados.py\" possui os mesmos dados do \"dicionario.txt\", porém convertidos para dicionários Python\n",
    "# Carrega as variáveis do arquivo de dicionário\n",
    "%run util/dicionario_dados.py\n",
    "\n",
    "# Executa a query e salva o DataFrame \n",
    "registros_por_benef = run_query(\"SELECT ESPECIE as Codigo, COUNT(ESPECIE) as qtd_registros FROM apos_aux \\\n",
    "          GROUP BY ESPECIE ORDER BY qtd_registros\")\n",
    "\n",
    "# Cria uma nova coluna com o nome do benefício\n",
    "registros_por_benef['Beneficio'] = registros_por_benef['Codigo'].apply(lambda x: codigos_especie[x])\n",
    "# Reordena as colunas\n",
    "registros_por_benef = registros_por_benef[['Beneficio', 'Codigo', 'qtd_registros']]\n",
    "registros_por_benef"
   ]
  },
  {
   "cell_type": "markdown",
   "metadata": {},
   "source": [
    "Conforme a tabela acima, o benefício com código 31, que corresponde ao benefício *Auxílio-doença previdenciário* é o que possui mais registros, seguido da *Aposentadoria por idade*."
   ]
  },
  {
   "cell_type": "markdown",
   "metadata": {},
   "source": [
    "Foi observado que nem todos os benefícios estão contidos nos dados. \n",
    "O arquivo de dicionário descreve **78 tipos** de benefícios, sendo que 24 destes são do tipo *Pensão*, restando 54 tipos de benefícios descritos abaixo:"
   ]
  },
  {
   "cell_type": "code",
   "execution_count": 5,
   "metadata": {},
   "outputs": [
    {
     "data": {
      "text/plain": [
       "['Abono de permanência em serviço 20%',\n",
       " 'Abono de permanência em serviço 25%',\n",
       " 'Abono de servidor aposentado pela autarquia empreg.',\n",
       " 'Amparo Assistencial ao idoso',\n",
       " 'Amparo assistencial ao portador de deficiência',\n",
       " 'Aposentadoria da extinta CAPIN',\n",
       " 'Aposentadoria de extranumerário da União',\n",
       " 'Aposentadoria excepcional do anistiado',\n",
       " 'Aposentadoria por idade',\n",
       " 'Aposentadoria por idade (Extinto Plano Básico)',\n",
       " 'Aposentadoria por idade compulsória (Ex-SASSE)',\n",
       " 'Aposentadoria por idade de ex-combatente marítimo',\n",
       " 'Aposentadoria por idade do emp. rural',\n",
       " 'Aposentadoria por idade do trab. rural',\n",
       " 'Aposentadoria por invalidez (Ex-SASSE)',\n",
       " 'Aposentadoria por invalidez (Extinto Plano Básico)',\n",
       " 'Aposentadoria por invalidez acid. do trab. rural',\n",
       " 'Aposentadoria por invalidez de aeronauta',\n",
       " 'Aposentadoria por invalidez de ex-combatente marítimo',\n",
       " 'Aposentadoria por invalidez do emp. rural',\n",
       " 'Aposentadoria por invalidez do trab. rural',\n",
       " 'Aposentadoria por invalidez por acidente do trabalho',\n",
       " 'Aposentadoria por invalidez previdenciária',\n",
       " 'Aposentadoria por tempo de serviço (Ex-SASSE)',\n",
       " 'Aposentadoria por tempo de serviço de aeronauta',\n",
       " 'Aposentadoria por tempo de serviço de ex-combatente',\n",
       " 'Aposentadoria por tempo de serviço de jornalista',\n",
       " 'Aposentadoria por tempo de serviço de professor',\n",
       " 'Aposentadoria por tempo de serviço especial',\n",
       " 'Aposentadoria por tempo de serviço ordinária',\n",
       " 'Aposentadoria por tempo de serviço previdenciária',\n",
       " 'Aposentadoria por tempo serviço ex-combatente marítimo',\n",
       " 'Auxílio-acidente',\n",
       " 'Auxílio-acidente por acidente do trabalho',\n",
       " 'Auxílio-doença (Extinto Plano Básico)',\n",
       " 'Auxílio-doença acid. do trab. rural',\n",
       " 'Auxílio-doença do trab. rural',\n",
       " 'Auxílio-doença por acidente do trabalho',\n",
       " 'Auxílio-doença previdenciário',\n",
       " 'Auxílio-reclusão (Extinto Plano Básico)',\n",
       " 'Auxílio-reclusão (LOPS)',\n",
       " 'Auxílio-reclusão do trab. rural',\n",
       " 'Auxílio-suplementar por acidente do trabalho',\n",
       " 'Complemento por acidente do trabalho do trab. rural',\n",
       " 'Pecúlio Especial de Aposentados',\n",
       " 'Renda mensal vitalícia por idade',\n",
       " 'Renda mensal vitalícia por idade do trab. rural',\n",
       " 'Renda mensal vitalícia por invalidez',\n",
       " 'Renda mensal vitalícia por invalidez do trab. rural',\n",
       " 'Salário-família estatutário',\n",
       " 'Salário-família estatutário da RFFSA',\n",
       " 'Salário-família estatutário de servidor do SINPAS',\n",
       " 'Salário-família previdenciário',\n",
       " 'Salário-maternidade']"
      ]
     },
     "execution_count": 5,
     "metadata": {},
     "output_type": "execute_result"
    }
   ],
   "source": [
    "sorted([x for x in list(codigos_especie.values()) if 'Pens' not in x])"
   ]
  },
  {
   "cell_type": "markdown",
   "metadata": {},
   "source": [
    "De todos os benefícios listados acima somente **8** aparecem nos dados."
   ]
  },
  {
   "cell_type": "markdown",
   "metadata": {},
   "source": [
    "A ausência de dados de tantos benefícios (ex: salário maternidade, auxílio-reclusão, etc.) limita consideravelmente as análises que podem ser realizadas."
   ]
  },
  {
   "cell_type": "code",
   "execution_count": null,
   "metadata": {},
   "outputs": [],
   "source": []
  },
  {
   "cell_type": "markdown",
   "metadata": {},
   "source": [
    "## Visão geral dos dados de Pensões\n",
    "\n",
    "Semelhante ao realizado para a tabela anterior (apos_aux), abaixo segue uma visão geral dos dados da tabela com os dados de pensões"
   ]
  },
  {
   "cell_type": "code",
   "execution_count": 6,
   "metadata": {},
   "outputs": [
    {
     "data": {
      "text/html": [
       "<div>\n",
       "<style scoped>\n",
       "    .dataframe tbody tr th:only-of-type {\n",
       "        vertical-align: middle;\n",
       "    }\n",
       "\n",
       "    .dataframe tbody tr th {\n",
       "        vertical-align: top;\n",
       "    }\n",
       "\n",
       "    .dataframe thead th {\n",
       "        text-align: right;\n",
       "    }\n",
       "</style>\n",
       "<table border=\"1\" class=\"dataframe\">\n",
       "  <thead>\n",
       "    <tr style=\"text-align: right;\">\n",
       "      <th></th>\n",
       "      <th>Beneficio</th>\n",
       "      <th>Codigo</th>\n",
       "      <th>Registros</th>\n",
       "    </tr>\n",
       "  </thead>\n",
       "  <tbody>\n",
       "    <tr>\n",
       "      <th>0</th>\n",
       "      <td>Pensão por morte por acidente do trabalho</td>\n",
       "      <td>93</td>\n",
       "      <td>48675</td>\n",
       "    </tr>\n",
       "    <tr>\n",
       "      <th>1</th>\n",
       "      <td>Pensão por morte previdenciária</td>\n",
       "      <td>21</td>\n",
       "      <td>7915510</td>\n",
       "    </tr>\n",
       "  </tbody>\n",
       "</table>\n",
       "</div>"
      ],
      "text/plain": [
       "                                   Beneficio  Codigo  Registros\n",
       "0  Pensão por morte por acidente do trabalho      93      48675\n",
       "1            Pensão por morte previdenciária      21    7915510"
      ]
     },
     "execution_count": 6,
     "metadata": {},
     "output_type": "execute_result"
    }
   ],
   "source": [
    "# Executa a query e salva o DataFrame \n",
    "registros_por_benef = run_query(\"SELECT ESPECIE as Codigo, COUNT(ESPECIE) as Registros FROM pensoes \\\n",
    "                                GROUP BY ESPECIE ORDER BY Registros\")\n",
    "\n",
    "# Cria uma nova coluna com o nome do benefício\n",
    "registros_por_benef['Beneficio'] = registros_por_benef['Codigo'].apply(lambda x: codigos_especie[x])\n",
    "# Reordena as colunas\n",
    "registros_por_benef = registros_por_benef[['Beneficio', 'Codigo', 'Registros']]\n",
    "registros_por_benef"
   ]
  },
  {
   "cell_type": "markdown",
   "metadata": {},
   "source": [
    "No caso das pensões, dos **24 tipos de pensões** descritas no dicionário de dados, somente **2** então presentes no banco de dados."
   ]
  },
  {
   "cell_type": "code",
   "execution_count": null,
   "metadata": {},
   "outputs": [],
   "source": []
  },
  {
   "cell_type": "code",
   "execution_count": 7,
   "metadata": {},
   "outputs": [],
   "source": [
    "# analisar dados ausentes ou duplicados, etc.\n",
    "# registros por ano"
   ]
  },
  {
   "cell_type": "markdown",
   "metadata": {},
   "source": [
    "------------------\n",
    "<span style=\"font-size: 12px\"><i>\n",
    "Em desenvolvimento...<br>\n",
    "</i></span>"
   ]
  }
 ],
 "metadata": {
  "kernelspec": {
   "display_name": "Python 3",
   "language": "python",
   "name": "python3"
  },
  "language_info": {
   "codemirror_mode": {
    "name": "ipython",
    "version": 3
   },
   "file_extension": ".py",
   "mimetype": "text/x-python",
   "name": "python",
   "nbconvert_exporter": "python",
   "pygments_lexer": "ipython3",
   "version": "3.6.5"
  }
 },
 "nbformat": 4,
 "nbformat_minor": 2
}
