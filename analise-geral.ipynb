{
 "cells": [
  {
   "cell_type": "markdown",
   "metadata": {},
   "source": [
    "# Análise Geral dos dados\n",
    "\n",
    "Este arquivo apresenta uma visão geral dos dados do RGPS no período de 1995 a 2016."
   ]
  },
  {
   "cell_type": "markdown",
   "metadata": {},
   "source": [
    "## Estrutura do banco de dados\n",
    "\n",
    "Inicialmente é apresentada uma visão geral da estrutura do banco de dados."
   ]
  },
  {
   "cell_type": "code",
   "execution_count": 1,
   "metadata": {},
   "outputs": [],
   "source": [
    "import sqlite3\n",
    "import pandas as pd\n",
    "                        \n",
    "# Função que executa as queries no banco de dados\n",
    "def run_query(q):\n",
    "    with sqlite3.connect('microdados/sqlite3/microdadosRGPS.db') as conn:\n",
    "        return pd.read_sql(q, conn)"
   ]
  },
  {
   "cell_type": "markdown",
   "metadata": {},
   "source": [
    "Lendo as tabelas do banco dados:"
   ]
  },
  {
   "cell_type": "code",
   "execution_count": 2,
   "metadata": {},
   "outputs": [
    {
     "data": {
      "text/html": [
       "<div>\n",
       "<style scoped>\n",
       "    .dataframe tbody tr th:only-of-type {\n",
       "        vertical-align: middle;\n",
       "    }\n",
       "\n",
       "    .dataframe tbody tr th {\n",
       "        vertical-align: top;\n",
       "    }\n",
       "\n",
       "    .dataframe thead th {\n",
       "        text-align: right;\n",
       "    }\n",
       "</style>\n",
       "<table border=\"1\" class=\"dataframe\">\n",
       "  <thead>\n",
       "    <tr style=\"text-align: right;\">\n",
       "      <th></th>\n",
       "      <th>name</th>\n",
       "      <th>type</th>\n",
       "    </tr>\n",
       "  </thead>\n",
       "  <tbody>\n",
       "    <tr>\n",
       "      <th>0</th>\n",
       "      <td>apos_aux</td>\n",
       "      <td>table</td>\n",
       "    </tr>\n",
       "    <tr>\n",
       "      <th>1</th>\n",
       "      <td>pensoes</td>\n",
       "      <td>table</td>\n",
       "    </tr>\n",
       "  </tbody>\n",
       "</table>\n",
       "</div>"
      ],
      "text/plain": [
       "       name   type\n",
       "0  apos_aux  table\n",
       "1   pensoes  table"
      ]
     },
     "execution_count": 2,
     "metadata": {},
     "output_type": "execute_result"
    }
   ],
   "source": [
    "query = \"SELECT name,type FROM sqlite_master WHERE type IN ('table')\"\n",
    "run_query(query)"
   ]
  },
  {
   "cell_type": "markdown",
   "metadata": {},
   "source": [
    "O banco possui duas tabelas, uma com os dados das aposentadorias e auxílios (***apos_aux***) e outra com as pensões.\n",
    "\n",
    "Em seguida, verificamos o esquema e quantidade de registros em cada uma das tabelas:"
   ]
  },
  {
   "cell_type": "code",
   "execution_count": 3,
   "metadata": {},
   "outputs": [
    {
     "name": "stdout",
     "output_type": "stream",
     "text": [
      "\n",
      "Tabela: apos_aux - 57955872 registros\n",
      "Esquema da tabela:\n",
      "    cid           name     type  notnull dflt_value  pk\n",
      "0     0        ESPECIE  INTEGER        0       None   0\n",
      "1     1            DIB     TEXT        0       None   0\n",
      "2     2            DDB     TEXT        0       None   0\n",
      "3     3   MOT_CESSACAO  INTEGER        0       None   0\n",
      "4     4  ULT_COMPET_MR  INTEGER        0       None   0\n",
      "5     5          VL_MR     TEXT        0       None   0\n",
      "6     6        DT_NASC     TEXT        0       None   0\n",
      "7     7         VL_RMI     TEXT        0       None   0\n",
      "8     8      CLIENTELA  INTEGER        0       None   0\n",
      "9     9           SEXO  INTEGER        0       None   0\n",
      "10   10       SITUACAO  INTEGER        0       None   0\n",
      "11   11       DT_OBITO     TEXT        0       None   0\n",
      "12   12      IDADE_DIB  INTEGER        0       None   0\n",
      "13   13  TEMPO_CONTRIB  INTEGER        0       None   0\n",
      "----------------------------------------\n",
      "\n",
      "Tabela: pensoes - 7964185 registros\n",
      "Esquema da tabela:\n",
      "    cid           name     type  notnull dflt_value  pk\n",
      "0     0        ESPECIE  INTEGER        0       None   0\n",
      "1     1            DIB     TEXT        0       None   0\n",
      "2     2            DDB     TEXT        0       None   0\n",
      "3     3   MOT_CESSACAO  INTEGER        0       None   0\n",
      "4     4  ULT_COMPET_MR  INTEGER        0       None   0\n",
      "5     5          VL_MR     TEXT        0       None   0\n",
      "6     6        DT_NASC     TEXT        0       None   0\n",
      "7     7         VL_RMI     TEXT        0       None   0\n",
      "8     8      CLIENTELA  INTEGER        0       None   0\n",
      "9     9           SEXO  INTEGER        0       None   0\n",
      "10   10       SITUACAO  INTEGER        0       None   0\n",
      "11   11       DT_OBITO     TEXT        0       None   0\n",
      "12   12      IDADE_DIB  INTEGER        0       None   0\n",
      "13   13  TEMPO_CONTRIB  INTEGER        0       None   0\n",
      "----------------------------------------\n"
     ]
    }
   ],
   "source": [
    "for tabela in [\"apos_aux\", \"pensoes\"]:\n",
    "    registros = run_query('SELECT COUNT(ESPECIE) as count FROM {}'.format(tabela)).loc[0,'count']\n",
    "    print(\"\\nTabela: {} - {} registros\".format(tabela,registros))\n",
    "    print(\"Esquema da tabela:\")\n",
    "    print(run_query(\"pragma table_info(apos_aux);\"))\n",
    "    print(\"-\"*40)    "
   ]
  },
  {
   "cell_type": "markdown",
   "metadata": {},
   "source": [
    "Como observado a tabela ***apos_aux*** possui mais de 57 milhões de registros e a tabela ***pensoes*** possui quase 8 milhões de registros.\n",
    "Além das quantidades de registros, a saída também apresenta os esquemas de cada umas das tabelas, sendo que ambas possuem 14 colunas.\n",
    "\n",
    "A tabela abaixo apresenta uma breve descrição do significado das quatro primeiras colunas da tabela ***apos_aux***. \n",
    "\n",
    "|CAMPO|DESCRIÇÃO|\n",
    "|---|---|\n",
    "|ESPECIE|Espécie de Benefício|\n",
    "|DIB|Data de Início do Benefício|\n",
    "|DDB|Data de Despacho do Benefício|\n",
    "|MOT_CESSACAO|Motivo de Cessação|\n",
    "\n",
    "O arquivo ***metadados.xls***, disponibilizado junto com o banco de dados, apresenta uma descrição detalhada de ambas as tabelas.\n",
    "\n",
    "A maioria dos dados é apresentada com códigos, assim, para o entendimento dos dados é necessário utilizar o arquivo ***dicionario.txt***, disponibilizado junto com banco, para que se possa entender os dados de cada coluna.\n",
    "Abaixo segue uma parte do arquivo de dicionário:\n",
    "\n",
    "* ESPÉCIE DE BENEFÍCIO (ESPECIE)\n",
    "\n",
    "|CÓDIGO|VALOR|\n",
    "|---|---|\n",
    "|'01'|'B01 Pensão por morte do trab. rural'|    \n",
    "|'02'|'B02 Pensão por morte acid. do trab. rural'|\n",
    "|...||\n",
    "|'95'|'B95 Auxílio-suplementar por acidente do trabalho'|\n",
    "|'96'|'B96 Pensão especias às pessoas atingidas pela hanseníase'|\n",
    "\n",
    "\n",
    "* VÍNCULO DE DEPENDENTE (VINC_DEP)\n",
    "\n",
    "|CÓDIGO|VALOR|\n",
    "|---|---|\n",
    "|1|\"Cônjuge\"|\n",
    "|2|\"Filho(a)\"| \n",
    "|...||\n",
    "|9|\"Dependente judicial\"|\n",
    "|99|\"Ignorado\"|\n",
    "    "
   ]
  },
  {
   "cell_type": "markdown",
   "metadata": {},
   "source": [
    "## Visão geral dos dados de Aposentadorias e Auxílios"
   ]
  },
  {
   "cell_type": "markdown",
   "metadata": {},
   "source": [
    "Como primeira parte da análise, segue uma visão dos dados contidos na tabela ***apos_aux***."
   ]
  },
  {
   "cell_type": "markdown",
   "metadata": {},
   "source": [
    "Uma das principais colunas da tabela é a coluna *ESPECIE*, que contém o tipo de benefício. Então, vamos verificar quantos registros existem para cada tipo de benefício da tabela."
   ]
  },
  {
   "cell_type": "code",
   "execution_count": 4,
   "metadata": {},
   "outputs": [
    {
     "data": {
      "text/html": [
       "<div>\n",
       "<style scoped>\n",
       "    .dataframe tbody tr th:only-of-type {\n",
       "        vertical-align: middle;\n",
       "    }\n",
       "\n",
       "    .dataframe tbody tr th {\n",
       "        vertical-align: top;\n",
       "    }\n",
       "\n",
       "    .dataframe thead th {\n",
       "        text-align: right;\n",
       "    }\n",
       "</style>\n",
       "<table border=\"1\" class=\"dataframe\">\n",
       "  <thead>\n",
       "    <tr style=\"text-align: right;\">\n",
       "      <th></th>\n",
       "      <th>Beneficio</th>\n",
       "      <th>Codigo</th>\n",
       "      <th>qtd_registros</th>\n",
       "    </tr>\n",
       "  </thead>\n",
       "  <tbody>\n",
       "    <tr>\n",
       "      <th>0</th>\n",
       "      <td>Aposentadoria por tempo de serviço de professor</td>\n",
       "      <td>57</td>\n",
       "      <td>114406</td>\n",
       "    </tr>\n",
       "    <tr>\n",
       "      <th>1</th>\n",
       "      <td>Aposentadoria por tempo de serviço especial</td>\n",
       "      <td>46</td>\n",
       "      <td>188462</td>\n",
       "    </tr>\n",
       "    <tr>\n",
       "      <th>2</th>\n",
       "      <td>Aposentadoria por invalidez por acidente do tr...</td>\n",
       "      <td>92</td>\n",
       "      <td>189969</td>\n",
       "    </tr>\n",
       "    <tr>\n",
       "      <th>3</th>\n",
       "      <td>Aposentadoria por invalidez previdenciária</td>\n",
       "      <td>32</td>\n",
       "      <td>3725842</td>\n",
       "    </tr>\n",
       "    <tr>\n",
       "      <th>4</th>\n",
       "      <td>Auxílio-doença por acidente do trabalho</td>\n",
       "      <td>91</td>\n",
       "      <td>4877036</td>\n",
       "    </tr>\n",
       "    <tr>\n",
       "      <th>5</th>\n",
       "      <td>Aposentadoria por tempo de serviço previdenciária</td>\n",
       "      <td>42</td>\n",
       "      <td>5272829</td>\n",
       "    </tr>\n",
       "    <tr>\n",
       "      <th>6</th>\n",
       "      <td>Aposentadoria por idade</td>\n",
       "      <td>41</td>\n",
       "      <td>10568276</td>\n",
       "    </tr>\n",
       "    <tr>\n",
       "      <th>7</th>\n",
       "      <td>Auxílio-doença previdenciário</td>\n",
       "      <td>31</td>\n",
       "      <td>33019052</td>\n",
       "    </tr>\n",
       "  </tbody>\n",
       "</table>\n",
       "</div>"
      ],
      "text/plain": [
       "                                           Beneficio  Codigo  qtd_registros\n",
       "0    Aposentadoria por tempo de serviço de professor      57         114406\n",
       "1        Aposentadoria por tempo de serviço especial      46         188462\n",
       "2  Aposentadoria por invalidez por acidente do tr...      92         189969\n",
       "3         Aposentadoria por invalidez previdenciária      32        3725842\n",
       "4            Auxílio-doença por acidente do trabalho      91        4877036\n",
       "5  Aposentadoria por tempo de serviço previdenciária      42        5272829\n",
       "6                            Aposentadoria por idade      41       10568276\n",
       "7                      Auxílio-doença previdenciário      31       33019052"
      ]
     },
     "execution_count": 4,
     "metadata": {},
     "output_type": "execute_result"
    }
   ],
   "source": [
    "# O arquivo \"dicionario_dados.py\" possui os mesmos dados do \"dicionario.txt\", porém convertidos para dicionários Python\n",
    "# Carrega as variáveis do arquivo de dicionário\n",
    "%run util/dicionario_dados.py\n",
    "\n",
    "# Executa a query e salva o DataFrame \n",
    "registros_por_benef = run_query(\"SELECT ESPECIE as Codigo, COUNT(ESPECIE) as qtd_registros FROM apos_aux \\\n",
    "          GROUP BY ESPECIE ORDER BY qtd_registros\")\n",
    "\n",
    "# Cria uma nova coluna com o nome do benefício\n",
    "registros_por_benef['Beneficio'] = registros_por_benef['Codigo'].apply(lambda x: codigos_especie[x])\n",
    "# Reordena as colunas\n",
    "registros_por_benef = registros_por_benef[['Beneficio', 'Codigo', 'qtd_registros']]\n",
    "registros_por_benef"
   ]
  },
  {
   "cell_type": "markdown",
   "metadata": {},
   "source": [
    "Conforme a tabela acima, o benefício com código 31, que corresponde ao benefício *Auxílio-doença previdenciário* é o que possui mais registros, seguido da *Aposentadoria por idade*."
   ]
  },
  {
   "cell_type": "markdown",
   "metadata": {},
   "source": [
    "Foi observado que nem todos os benefícios estão contidos nos dados. \n",
    "O arquivo de dicionário descreve **78 tipos** de benefícios, sendo que 24 destes são do tipo *Pensão*, restando 54 tipos de benefícios descritos abaixo:"
   ]
  },
  {
   "cell_type": "code",
   "execution_count": 5,
   "metadata": {},
   "outputs": [
    {
     "data": {
      "text/plain": [
       "['Abono de permanência em serviço 20%',\n",
       " 'Abono de permanência em serviço 25%',\n",
       " 'Abono de servidor aposentado pela autarquia empreg.',\n",
       " 'Amparo Assistencial ao idoso',\n",
       " 'Amparo assistencial ao portador de deficiência',\n",
       " 'Aposentadoria da extinta CAPIN',\n",
       " 'Aposentadoria de extranumerário da União',\n",
       " 'Aposentadoria excepcional do anistiado',\n",
       " 'Aposentadoria por idade',\n",
       " 'Aposentadoria por idade (Extinto Plano Básico)',\n",
       " 'Aposentadoria por idade compulsória (Ex-SASSE)',\n",
       " 'Aposentadoria por idade de ex-combatente marítimo',\n",
       " 'Aposentadoria por idade do emp. rural',\n",
       " 'Aposentadoria por idade do trab. rural',\n",
       " 'Aposentadoria por invalidez (Ex-SASSE)',\n",
       " 'Aposentadoria por invalidez (Extinto Plano Básico)',\n",
       " 'Aposentadoria por invalidez acid. do trab. rural',\n",
       " 'Aposentadoria por invalidez de aeronauta',\n",
       " 'Aposentadoria por invalidez de ex-combatente marítimo',\n",
       " 'Aposentadoria por invalidez do emp. rural',\n",
       " 'Aposentadoria por invalidez do trab. rural',\n",
       " 'Aposentadoria por invalidez por acidente do trabalho',\n",
       " 'Aposentadoria por invalidez previdenciária',\n",
       " 'Aposentadoria por tempo de serviço (Ex-SASSE)',\n",
       " 'Aposentadoria por tempo de serviço de aeronauta',\n",
       " 'Aposentadoria por tempo de serviço de ex-combatente',\n",
       " 'Aposentadoria por tempo de serviço de jornalista',\n",
       " 'Aposentadoria por tempo de serviço de professor',\n",
       " 'Aposentadoria por tempo de serviço especial',\n",
       " 'Aposentadoria por tempo de serviço ordinária',\n",
       " 'Aposentadoria por tempo de serviço previdenciária',\n",
       " 'Aposentadoria por tempo serviço ex-combatente marítimo',\n",
       " 'Auxílio-acidente',\n",
       " 'Auxílio-acidente por acidente do trabalho',\n",
       " 'Auxílio-doença (Extinto Plano Básico)',\n",
       " 'Auxílio-doença acid. do trab. rural',\n",
       " 'Auxílio-doença do trab. rural',\n",
       " 'Auxílio-doença por acidente do trabalho',\n",
       " 'Auxílio-doença previdenciário',\n",
       " 'Auxílio-reclusão (Extinto Plano Básico)',\n",
       " 'Auxílio-reclusão (LOPS)',\n",
       " 'Auxílio-reclusão do trab. rural',\n",
       " 'Auxílio-suplementar por acidente do trabalho',\n",
       " 'Complemento por acidente do trabalho do trab. rural',\n",
       " 'Pecúlio Especial de Aposentados',\n",
       " 'Renda mensal vitalícia por idade',\n",
       " 'Renda mensal vitalícia por idade do trab. rural',\n",
       " 'Renda mensal vitalícia por invalidez',\n",
       " 'Renda mensal vitalícia por invalidez do trab. rural',\n",
       " 'Salário-família estatutário',\n",
       " 'Salário-família estatutário da RFFSA',\n",
       " 'Salário-família estatutário de servidor do SINPAS',\n",
       " 'Salário-família previdenciário',\n",
       " 'Salário-maternidade']"
      ]
     },
     "execution_count": 5,
     "metadata": {},
     "output_type": "execute_result"
    }
   ],
   "source": [
    "sorted([x for x in list(codigos_especie.values()) if 'Pens' not in x])"
   ]
  },
  {
   "cell_type": "markdown",
   "metadata": {},
   "source": [
    "De todos os benefícios listados acima somente **8** aparecem nos dados."
   ]
  },
  {
   "cell_type": "markdown",
   "metadata": {},
   "source": [
    "A ausência de dados de tantos benefícios (ex: salário maternidade, auxílio-reclusão, etc.) limita consideravelmente as análises que podem ser realizadas."
   ]
  },
  {
   "cell_type": "markdown",
   "metadata": {},
   "source": [
    "## Visão geral dos dados de Pensões\n",
    "\n",
    "Semelhante ao realizado para a tabela anterior (apos_aux), abaixo segue uma visão geral dos dados da tabela com os dados de pensões"
   ]
  },
  {
   "cell_type": "code",
   "execution_count": 6,
   "metadata": {},
   "outputs": [
    {
     "data": {
      "text/html": [
       "<div>\n",
       "<style scoped>\n",
       "    .dataframe tbody tr th:only-of-type {\n",
       "        vertical-align: middle;\n",
       "    }\n",
       "\n",
       "    .dataframe tbody tr th {\n",
       "        vertical-align: top;\n",
       "    }\n",
       "\n",
       "    .dataframe thead th {\n",
       "        text-align: right;\n",
       "    }\n",
       "</style>\n",
       "<table border=\"1\" class=\"dataframe\">\n",
       "  <thead>\n",
       "    <tr style=\"text-align: right;\">\n",
       "      <th></th>\n",
       "      <th>Beneficio</th>\n",
       "      <th>Codigo</th>\n",
       "      <th>Registros</th>\n",
       "    </tr>\n",
       "  </thead>\n",
       "  <tbody>\n",
       "    <tr>\n",
       "      <th>0</th>\n",
       "      <td>Pensão por morte por acidente do trabalho</td>\n",
       "      <td>93</td>\n",
       "      <td>48675</td>\n",
       "    </tr>\n",
       "    <tr>\n",
       "      <th>1</th>\n",
       "      <td>Pensão por morte previdenciária</td>\n",
       "      <td>21</td>\n",
       "      <td>7915510</td>\n",
       "    </tr>\n",
       "  </tbody>\n",
       "</table>\n",
       "</div>"
      ],
      "text/plain": [
       "                                   Beneficio  Codigo  Registros\n",
       "0  Pensão por morte por acidente do trabalho      93      48675\n",
       "1            Pensão por morte previdenciária      21    7915510"
      ]
     },
     "execution_count": 6,
     "metadata": {},
     "output_type": "execute_result"
    }
   ],
   "source": [
    "# Executa a query e salva o DataFrame \n",
    "registros_por_benef = run_query(\"SELECT ESPECIE as Codigo, COUNT(ESPECIE) as Registros FROM pensoes \\\n",
    "                                GROUP BY ESPECIE ORDER BY Registros\")\n",
    "\n",
    "# Cria uma nova coluna com o nome do benefício\n",
    "registros_por_benef['Beneficio'] = registros_por_benef['Codigo'].apply(lambda x: codigos_especie[x])\n",
    "# Reordena as colunas\n",
    "registros_por_benef = registros_por_benef[['Beneficio', 'Codigo', 'Registros']]\n",
    "registros_por_benef"
   ]
  },
  {
   "cell_type": "markdown",
   "metadata": {},
   "source": [
    "No caso das pensões, dos **24 tipos de pensões** descritas no dicionário de dados, somente **2** então presentes no banco de dados.\n",
    "\n",
    "Assim, no total, tem-se 10 tipos de benefícios previdenciários nos dados obtidos."
   ]
  },
  {
   "cell_type": "markdown",
   "metadata": {},
   "source": [
    "## Registros por ano\n",
    "\n",
    "Os dados obtidos possuem informações do período de 1995 a 2016, a seguir, serão apresentadas as quantidades de registros para cada ano e para cada benefício.\n",
    "\n",
    "Vale ressaltar que no banco de dados, temos dois campos que podem gerar confusão:\n",
    "* **DIB - Data de Início do Benefício:** estabelece o início do benefício. Em situações normais, é a data em que o benefício começa a ser pago e pode coincidir com o fato gerador do benefício.\n",
    "* **DDB - Data do Despacho do Benefício:** É o dia em que o INSS concluiu a análise do requerimento do benefício e o despachou, deferindo ou indeferindo.\n",
    "\n",
    "Assim, o campo que será utilizado é o **DDB**.\n",
    "\n",
    "#### Dados de Aposentadorias e auxílios"
   ]
  },
  {
   "cell_type": "code",
   "execution_count": 7,
   "metadata": {},
   "outputs": [],
   "source": [
    "# Extrai os valores de DDB do banco\n",
    "registros_ano = run_query(\"SELECT DDB FROM apos_aux\")\n",
    "# Remove as informações de dia e mês e salva somente os dados de ano (12/12/1995 --> 1995)\n",
    "registros_ano['DDB'] = registros_ano['DDB'].apply(lambda x: int(x[-4:]))\n",
    "# Calcula a frequência para cada ano\n",
    "registros_ano = registros_ano['DDB'].value_counts().sort_index()"
   ]
  },
  {
   "cell_type": "code",
   "execution_count": 8,
   "metadata": {},
   "outputs": [
    {
     "data": {
      "text/plain": [
       "1995    1440343\n",
       "1996    1390537\n",
       "1997    1619494\n",
       "1998    1621862\n",
       "1999    1522994\n",
       "2000    1589385\n",
       "2001    1492241\n",
       "2002    2241813\n",
       "2003    2282941\n",
       "2004    2749580\n",
       "2005    2897830\n",
       "2006    3155134\n",
       "2007    3006316\n",
       "2008    3187159\n",
       "2009    3123022\n",
       "2010    3264667\n",
       "2011    3414874\n",
       "2012    3577395\n",
       "2013    3751288\n",
       "2014    3769793\n",
       "2015    3092045\n",
       "2016    3765159\n",
       "Name: DDB, dtype: int64"
      ]
     },
     "execution_count": 8,
     "metadata": {},
     "output_type": "execute_result"
    }
   ],
   "source": [
    "registros_ano"
   ]
  },
  {
   "cell_type": "markdown",
   "metadata": {},
   "source": [
    "Observando a tabela acima, é visível o crescimento no número de benefícios concedidos longo dos anos. \n",
    "\n",
    "O gráfico abaixo mostra os mesmos dados da tabela anterior, porém inserindo a variação (%) em relação ao ano anterior."
   ]
  },
  {
   "cell_type": "code",
   "execution_count": 9,
   "metadata": {},
   "outputs": [
    {
     "data": {
      "image/png": "[encoded data removed]",
      "text/plain": [
       "<Figure size 864x360 with 1 Axes>"
      ]
     },
     "metadata": {},
     "output_type": "display_data"
    }
   ],
   "source": [
    "import matplotlib.pyplot as plt\n",
    "%matplotlib inline\n",
    "\n",
    "# Calcula a variação (%) para cada ano\n",
    "variacao = [] # 1996-2016\n",
    "\n",
    "for i in range(1,len(registros_ano-1)):\n",
    "    variacao.append(((registros_ano.iloc[i]/registros_ano.iloc[i-1])-1)*100)\n",
    "\n",
    "plt.figure(figsize=(12,5))\n",
    "ax = registros_ano.plot.bar()\n",
    "ax.set_title(\"Quantidade e variação de registros por ano\")\n",
    "ax.set_ylabel(\"QUANTIDADE\")\n",
    "ax.set_xlabel(\"ANO\")\n",
    "ax.set_ylim(0,4500000)\n",
    "\n",
    "i=1\n",
    "for v in variacao:\n",
    "    y = registros_ano.iloc[i]+60000\n",
    "    x = i-0.4\n",
    "    ax.text(x,y,str(round(v,1))+'%',size=8)        \n",
    "    i += 1"
   ]
  },
  {
   "cell_type": "markdown",
   "metadata": {},
   "source": [
    "#### Pensões\n",
    "\n",
    "Abaixo é apresentada a quantidade de pensões concedidas em cada ano."
   ]
  },
  {
   "cell_type": "code",
   "execution_count": 10,
   "metadata": {},
   "outputs": [
    {
     "data": {
      "text/plain": [
       "1995    333385\n",
       "1996    290213\n",
       "1997    294890\n",
       "1998    297699\n",
       "1999    293060\n",
       "2000    307673\n",
       "2001    286587\n",
       "2002    346783\n",
       "2003    320152\n",
       "2004    347553\n",
       "2005    338794\n",
       "2006    355473\n",
       "2007    381752\n",
       "2008    390339\n",
       "2009    403655\n",
       "2010    410144\n",
       "2011    421393\n",
       "2012    424918\n",
       "2013    441913\n",
       "2014    436369\n",
       "2015    387383\n",
       "2016    454057\n",
       "Name: DDB, dtype: int64"
      ]
     },
     "execution_count": 10,
     "metadata": {},
     "output_type": "execute_result"
    }
   ],
   "source": [
    "# Extrai os valores de DDB do banco\n",
    "registros_ano = run_query(\"SELECT DDB FROM pensoes\")\n",
    "# Remove as informações de dia e mês e salva somente os dados de ano (12/12/1995 --> 1995)\n",
    "registros_ano['DDB'] = registros_ano['DDB'].apply(lambda x: int(x[-4:]))\n",
    "# Calcula a frequência para cada ano\n",
    "registros_ano = registros_ano['DDB'].value_counts().sort_index()\n",
    "registros_ano"
   ]
  },
  {
   "cell_type": "markdown",
   "metadata": {},
   "source": [
    "No caso das pensões, também observa-se variação na quantidade de pensões concedidas em cada ano, com uma tendência de crescimento, conforme gráfico abaixo:"
   ]
  },
  {
   "cell_type": "code",
   "execution_count": 11,
   "metadata": {},
   "outputs": [
    {
     "data": {
      "image/png": "[encoded data removed]",
      "text/plain": [
       "<Figure size 864x360 with 1 Axes>"
      ]
     },
     "metadata": {},
     "output_type": "display_data"
    }
   ],
   "source": [
    "import matplotlib.pyplot as plt\n",
    "%matplotlib inline\n",
    "\n",
    "# Calcula a variação (%) para cada ano\n",
    "variacao = [] # 1996-2016\n",
    "\n",
    "for i in range(1,len(registros_ano-1)):\n",
    "    variacao.append(((registros_ano.iloc[i]/registros_ano.iloc[i-1])-1)*100)\n",
    "\n",
    "plt.figure(figsize=(12,5))\n",
    "ax = registros_ano.plot.bar()\n",
    "ax.set_title(\"Quantidade e variação de registros por ano\")\n",
    "ax.set_ylabel(\"QUANTIDADE\")\n",
    "ax.set_xlabel(\"ANO\")\n",
    "ax.set_ylim(0,550000)\n",
    "\n",
    "i=1\n",
    "for v in variacao:\n",
    "    y = registros_ano.iloc[i]+6000\n",
    "    x = i-0.4\n",
    "    ax.text(x,y,str(round(v,1))+'%',size=8)        \n",
    "    i += 1"
   ]
  },
  {
   "cell_type": "markdown",
   "metadata": {},
   "source": [
    "# Registros por situação\n",
    "\n",
    "Um outro campo de suma importância nos registros é a sua situação (Ativo, Cessado, Suspenso etc).\n",
    "\n",
    "Assim, abaixo segue um análise dos registros por situação.\n",
    "\n",
    "#### Aposentadorias e Auxílios"
   ]
  },
  {
   "cell_type": "code",
   "execution_count": 12,
   "metadata": {},
   "outputs": [
    {
     "data": {
      "text/html": [
       "<div>\n",
       "<style scoped>\n",
       "    .dataframe tbody tr th:only-of-type {\n",
       "        vertical-align: middle;\n",
       "    }\n",
       "\n",
       "    .dataframe tbody tr th {\n",
       "        vertical-align: top;\n",
       "    }\n",
       "\n",
       "    .dataframe thead th {\n",
       "        text-align: right;\n",
       "    }\n",
       "</style>\n",
       "<table border=\"1\" class=\"dataframe\">\n",
       "  <thead>\n",
       "    <tr style=\"text-align: right;\">\n",
       "      <th></th>\n",
       "      <th>SITUACAO</th>\n",
       "      <th>QUANTIDADE</th>\n",
       "      <th>PROPORCAO (%)</th>\n",
       "    </tr>\n",
       "  </thead>\n",
       "  <tbody>\n",
       "    <tr>\n",
       "      <th>0</th>\n",
       "      <td>CESSADO</td>\n",
       "      <td>37375130</td>\n",
       "      <td>64.488944</td>\n",
       "    </tr>\n",
       "    <tr>\n",
       "      <th>1</th>\n",
       "      <td>ATIVO</td>\n",
       "      <td>17480837</td>\n",
       "      <td>30.162322</td>\n",
       "    </tr>\n",
       "    <tr>\n",
       "      <th>2</th>\n",
       "      <td>CESSADO PELO SISOBI</td>\n",
       "      <td>2984389</td>\n",
       "      <td>5.149416</td>\n",
       "    </tr>\n",
       "    <tr>\n",
       "      <th>3</th>\n",
       "      <td>SUSPENSO</td>\n",
       "      <td>50504</td>\n",
       "      <td>0.087142</td>\n",
       "    </tr>\n",
       "    <tr>\n",
       "      <th>4</th>\n",
       "      <td>CESSADO PELA INSPETORIA</td>\n",
       "      <td>17961</td>\n",
       "      <td>0.030991</td>\n",
       "    </tr>\n",
       "    <tr>\n",
       "      <th>5</th>\n",
       "      <td>SUSPENSO PELO CONPAG</td>\n",
       "      <td>14190</td>\n",
       "      <td>0.024484</td>\n",
       "    </tr>\n",
       "    <tr>\n",
       "      <th>6</th>\n",
       "      <td>CESSADO PELA AUDITORIA</td>\n",
       "      <td>11388</td>\n",
       "      <td>0.019649</td>\n",
       "    </tr>\n",
       "    <tr>\n",
       "      <th>7</th>\n",
       "      <td>SUSPENSO PELA AUDITORIA</td>\n",
       "      <td>10257</td>\n",
       "      <td>0.017698</td>\n",
       "    </tr>\n",
       "    <tr>\n",
       "      <th>8</th>\n",
       "      <td>SUSPENSO PELO SISOBI</td>\n",
       "      <td>7918</td>\n",
       "      <td>0.013662</td>\n",
       "    </tr>\n",
       "    <tr>\n",
       "      <th>9</th>\n",
       "      <td>CANCELADO PELA AUDITORIA</td>\n",
       "      <td>1785</td>\n",
       "      <td>0.003080</td>\n",
       "    </tr>\n",
       "    <tr>\n",
       "      <th>10</th>\n",
       "      <td>RECEBENDO MENSALID DE RECUPER 18 MESES</td>\n",
       "      <td>1217</td>\n",
       "      <td>0.002100</td>\n",
       "    </tr>\n",
       "    <tr>\n",
       "      <th>11</th>\n",
       "      <td>SUSPENSO POR MARCA DE ERRO</td>\n",
       "      <td>205</td>\n",
       "      <td>0.000354</td>\n",
       "    </tr>\n",
       "    <tr>\n",
       "      <th>12</th>\n",
       "      <td>CESSADO REVISAO RURAL/95</td>\n",
       "      <td>71</td>\n",
       "      <td>0.000123</td>\n",
       "    </tr>\n",
       "    <tr>\n",
       "      <th>13</th>\n",
       "      <td>RECEBENDO MENSALID DE RECUPER 6 MESES</td>\n",
       "      <td>17</td>\n",
       "      <td>0.000029</td>\n",
       "    </tr>\n",
       "    <tr>\n",
       "      <th>14</th>\n",
       "      <td>CESSADO POR CESS DO ORIGEM</td>\n",
       "      <td>3</td>\n",
       "      <td>0.000005</td>\n",
       "    </tr>\n",
       "  </tbody>\n",
       "</table>\n",
       "</div>"
      ],
      "text/plain": [
       "                                  SITUACAO  QUANTIDADE  PROPORCAO (%)\n",
       "0                                  CESSADO    37375130      64.488944\n",
       "1                                    ATIVO    17480837      30.162322\n",
       "2                      CESSADO PELO SISOBI     2984389       5.149416\n",
       "3                                 SUSPENSO       50504       0.087142\n",
       "4                  CESSADO PELA INSPETORIA       17961       0.030991\n",
       "5                     SUSPENSO PELO CONPAG       14190       0.024484\n",
       "6                   CESSADO PELA AUDITORIA       11388       0.019649\n",
       "7                  SUSPENSO PELA AUDITORIA       10257       0.017698\n",
       "8                     SUSPENSO PELO SISOBI        7918       0.013662\n",
       "9                 CANCELADO PELA AUDITORIA        1785       0.003080\n",
       "10  RECEBENDO MENSALID DE RECUPER 18 MESES        1217       0.002100\n",
       "11              SUSPENSO POR MARCA DE ERRO         205       0.000354\n",
       "12                CESSADO REVISAO RURAL/95          71       0.000123\n",
       "13   RECEBENDO MENSALID DE RECUPER 6 MESES          17       0.000029\n",
       "14              CESSADO POR CESS DO ORIGEM           3       0.000005"
      ]
     },
     "execution_count": 12,
     "metadata": {},
     "output_type": "execute_result"
    }
   ],
   "source": [
    "# Realiza a Query no banco de dados\n",
    "reg_situacao = run_query(\"SELECT SITUACAO, COUNT(SITUACAO) AS QUANTIDADE FROM apos_aux GROUP BY SITUACAO ORDER BY QUANTIDADE DESC\")\n",
    "# Substitui os códigos da coluna SITUACAO pelo texto correspondente\n",
    "reg_situacao['SITUACAO'] = reg_situacao['SITUACAO'].apply(lambda x: codigos_situacao[x])\n",
    "# Adiciona mais uma coluna com a porcentagem relativa em relação ao total\n",
    "reg_situacao['PROPORCAO (%)'] = 100*(reg_situacao['QUANTIDADE']/reg_situacao['QUANTIDADE'].sum())\n",
    "reg_situacao"
   ]
  },
  {
   "cell_type": "markdown",
   "metadata": {},
   "source": [
    "É observado que a maioria dos registros está em situação de CESSADO (mais de 65%), havendo somente 17.4 milhões de benefícios ativos, que corresponde a 30% dos registros."
   ]
  },
  {
   "cell_type": "markdown",
   "metadata": {},
   "source": [
    "#### Pensões"
   ]
  },
  {
   "cell_type": "code",
   "execution_count": 13,
   "metadata": {},
   "outputs": [
    {
     "data": {
      "text/html": [
       "<div>\n",
       "<style scoped>\n",
       "    .dataframe tbody tr th:only-of-type {\n",
       "        vertical-align: middle;\n",
       "    }\n",
       "\n",
       "    .dataframe tbody tr th {\n",
       "        vertical-align: top;\n",
       "    }\n",
       "\n",
       "    .dataframe thead th {\n",
       "        text-align: right;\n",
       "    }\n",
       "</style>\n",
       "<table border=\"1\" class=\"dataframe\">\n",
       "  <thead>\n",
       "    <tr style=\"text-align: right;\">\n",
       "      <th></th>\n",
       "      <th>SITUACAO</th>\n",
       "      <th>QUANTIDADE</th>\n",
       "      <th>PROPORCAO (%)</th>\n",
       "    </tr>\n",
       "  </thead>\n",
       "  <tbody>\n",
       "    <tr>\n",
       "      <th>0</th>\n",
       "      <td>ATIVO</td>\n",
       "      <td>5811140</td>\n",
       "      <td>72.965909</td>\n",
       "    </tr>\n",
       "    <tr>\n",
       "      <th>1</th>\n",
       "      <td>CESSADO</td>\n",
       "      <td>1981535</td>\n",
       "      <td>24.880575</td>\n",
       "    </tr>\n",
       "    <tr>\n",
       "      <th>2</th>\n",
       "      <td>CESSADO PELO SISOBI</td>\n",
       "      <td>133430</td>\n",
       "      <td>1.675375</td>\n",
       "    </tr>\n",
       "    <tr>\n",
       "      <th>3</th>\n",
       "      <td>SUSPENSO</td>\n",
       "      <td>25735</td>\n",
       "      <td>0.323134</td>\n",
       "    </tr>\n",
       "    <tr>\n",
       "      <th>4</th>\n",
       "      <td>SUSPENSO PELO CONPAG</td>\n",
       "      <td>5313</td>\n",
       "      <td>0.066711</td>\n",
       "    </tr>\n",
       "    <tr>\n",
       "      <th>5</th>\n",
       "      <td>SUSPENSO PELO SISOBI</td>\n",
       "      <td>4428</td>\n",
       "      <td>0.055599</td>\n",
       "    </tr>\n",
       "    <tr>\n",
       "      <th>6</th>\n",
       "      <td>CESSADO PELA AUDITORIA</td>\n",
       "      <td>1433</td>\n",
       "      <td>0.017993</td>\n",
       "    </tr>\n",
       "    <tr>\n",
       "      <th>7</th>\n",
       "      <td>SUSPENSO PELA AUDITORIA</td>\n",
       "      <td>698</td>\n",
       "      <td>0.008764</td>\n",
       "    </tr>\n",
       "    <tr>\n",
       "      <th>8</th>\n",
       "      <td>CANCELADO PELA AUDITORIA</td>\n",
       "      <td>205</td>\n",
       "      <td>0.002574</td>\n",
       "    </tr>\n",
       "    <tr>\n",
       "      <th>9</th>\n",
       "      <td>CESSADO PELA INSPETORIA</td>\n",
       "      <td>141</td>\n",
       "      <td>0.001770</td>\n",
       "    </tr>\n",
       "    <tr>\n",
       "      <th>10</th>\n",
       "      <td>SUSPENSO POR MARCA DE ERRO</td>\n",
       "      <td>108</td>\n",
       "      <td>0.001356</td>\n",
       "    </tr>\n",
       "    <tr>\n",
       "      <th>11</th>\n",
       "      <td>CESSADO REVISAO RURAL/95</td>\n",
       "      <td>19</td>\n",
       "      <td>0.000239</td>\n",
       "    </tr>\n",
       "  </tbody>\n",
       "</table>\n",
       "</div>"
      ],
      "text/plain": [
       "                      SITUACAO  QUANTIDADE  PROPORCAO (%)\n",
       "0                        ATIVO     5811140      72.965909\n",
       "1                      CESSADO     1981535      24.880575\n",
       "2          CESSADO PELO SISOBI      133430       1.675375\n",
       "3                     SUSPENSO       25735       0.323134\n",
       "4         SUSPENSO PELO CONPAG        5313       0.066711\n",
       "5         SUSPENSO PELO SISOBI        4428       0.055599\n",
       "6       CESSADO PELA AUDITORIA        1433       0.017993\n",
       "7      SUSPENSO PELA AUDITORIA         698       0.008764\n",
       "8     CANCELADO PELA AUDITORIA         205       0.002574\n",
       "9      CESSADO PELA INSPETORIA         141       0.001770\n",
       "10  SUSPENSO POR MARCA DE ERRO         108       0.001356\n",
       "11    CESSADO REVISAO RURAL/95          19       0.000239"
      ]
     },
     "execution_count": 13,
     "metadata": {},
     "output_type": "execute_result"
    }
   ],
   "source": [
    "# Realiza a Query no banco de dados\n",
    "reg_situacao = run_query(\"SELECT SITUACAO, COUNT(SITUACAO) AS QUANTIDADE FROM pensoes GROUP BY SITUACAO ORDER BY QUANTIDADE DESC\")\n",
    "# Substitui os códigos da coluna SITUACAO pelo texto correspondente\n",
    "reg_situacao['SITUACAO'] = reg_situacao['SITUACAO'].apply(lambda x: codigos_situacao[x])\n",
    "# Adiciona mais uma coluna com a porcentagem relativa em relação ao total\n",
    "reg_situacao['PROPORCAO (%)'] = 100*(reg_situacao['QUANTIDADE']/reg_situacao['QUANTIDADE'].sum())\n",
    "reg_situacao"
   ]
  },
  {
   "cell_type": "markdown",
   "metadata": {},
   "source": [
    "No caso das pensões, a maioria dos registros são de benefícios ativos (73%)."
   ]
  },
  {
   "cell_type": "markdown",
   "metadata": {},
   "source": [
    "# Conclusões\n",
    "\n",
    "Está breve análise buscou apresentar uma visão geral dos dados presentes nas tabelas **apos_aux** e **pensoes**.\n",
    "\n",
    "As principais observações foram:\n",
    "* A tabela **apos_aux** possui mais de 57 milhões de registros e a tabela **pensoes** possui quase 8 milhões de registros.\n",
    "* O benefício com maior número de registros é o Auxílio-doença previdenciário\n",
    "* Apenas 10 tipos de benefícios, de um total de 78, estão presentes nos dados.\n",
    "* A maioria dos benefícios de aposentadorias e auxílios foram concendidos nos últimos 14 anos \n",
    "* Apenas 30% do total de benefícios de aposentadorias e auxílios (para todos os anos) estão ATIVOS.\n",
    "* 72% do total de pensões estão ATIVAS.\n",
    "\n",
    "Os outros documentos deste projeto apresentam análises mais detalhadas para cada um dos tipos de benefícios contidos nas tabelas."
   ]
  }
 ],
 "metadata": {
  "kernelspec": {
   "display_name": "Python 3",
   "language": "python",
   "name": "python3"
  },
  "language_info": {
   "codemirror_mode": {
    "name": "ipython",
    "version": 3
   },
   "file_extension": ".py",
   "mimetype": "text/x-python",
   "name": "python",
   "nbconvert_exporter": "python",
   "pygments_lexer": "ipython3",
   "version": "3.6.5"
  }
 },
 "nbformat": 4,
 "nbformat_minor": 2
}
